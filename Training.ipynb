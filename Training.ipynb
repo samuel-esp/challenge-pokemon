{
 "cells": [
  {
   "cell_type": "code",
   "execution_count": null,
   "id": "1f0a6fbf",
   "metadata": {},
   "outputs": [],
   "source": [
    "!pip install numpy\n",
    "!pip install pandas\n",
    "!pip install matplotlib\n",
    "!pip install seaborn\n",
    "!pip install sklearn\n",
    "import numpy as np \n",
    "import pandas as pd \n",
    "from sklearn.model_selection import train_test_split \n",
    "from sklearn.metrics import plot_confusion_matrix\n",
    "from sklearn.preprocessing import LabelEncoder\n",
    "import matplotlib.pyplot as plt\n",
    "from sklearn.linear_model import LogisticRegression\n",
    "from sklearn.metrics import plot_confusion_matrix, classification_report\n",
    "from sklearn.tree import DecisionTreeClassifier\n",
    "from sklearn.metrics import accuracy_score\n",
    "from sklearn.ensemble import RandomForestClassifier\n",
    "from sklearn.linear_model import LogisticRegression\n",
    "import seaborn as sns"
   ]
  },
  {
   "cell_type": "code",
   "execution_count": null,
   "id": "dba0fb5c",
   "metadata": {},
   "outputs": [],
   "source": [
    "train = pd.read_csv(\"train.csv\")\n",
    "test = pd.read_csv(\"test.csv\")"
   ]
  },
  {
   "cell_type": "code",
   "execution_count": null,
   "id": "78b05b8e",
   "metadata": {},
   "outputs": [],
   "source": [
    "train.head(20)"
   ]
  },
  {
   "cell_type": "markdown",
   "id": "c8276053",
   "metadata": {},
   "source": [
    "## ESPLORAZIONE BASICA DEL DATASET COMBATS PER VISUALIZZARE VALORI NULLI, VALORI RIPETUTI "
   ]
  },
  {
   "cell_type": "code",
   "execution_count": null,
   "id": "0c16d61e",
   "metadata": {},
   "outputs": [],
   "source": [
    "feature = list(train)\n",
    "print(feature)"
   ]
  },
  {
   "cell_type": "code",
   "execution_count": null,
   "id": "c0a792aa",
   "metadata": {},
   "outputs": [],
   "source": [
    "for c in train.columns:   \n",
    "    print (\"Features: \", c)\n",
    "    print(train[c].value_counts())\n",
    "    print(\"\\n-------\\n\")\n",
    "\n",
    "for c in test.columns:   \n",
    "    print (\"Features: \", c)\n",
    "    print(test[c].value_counts())\n",
    "    print(\"\\n-------\\n\") "
   ]
  },
  {
   "cell_type": "markdown",
   "id": "d7a3589c",
   "metadata": {},
   "source": [
    "#### OSSERVAZIONI:\n",
    "\n",
    "##### * Utile stampare una rapida distribuzione, tuttavia analisi piu' accurate verranno fatte nella successiva sezione di Analisi Dei Dati"
   ]
  },
  {
   "cell_type": "code",
   "execution_count": null,
   "id": "11392bd3",
   "metadata": {},
   "outputs": [],
   "source": [
    "print(train.isnull().sum()) #valori nulli in train\n",
    "print(test.isnull().sum())  #valori nulli in test"
   ]
  },
  {
   "cell_type": "markdown",
   "id": "66b3f53d",
   "metadata": {},
   "source": [
    "#### OSSERVAZIONI:\n",
    "\n",
    "##### * Non ci sono valori nulli nei dataset train e test derivanti dal file \"combats.csv\""
   ]
  },
  {
   "cell_type": "code",
   "execution_count": null,
   "id": "83592988",
   "metadata": {},
   "outputs": [],
   "source": [
    "train.info() #controllo i dtype"
   ]
  },
  {
   "cell_type": "markdown",
   "id": "02915c8f",
   "metadata": {},
   "source": [
    "### TRASFORMO IL VALORE DI WINNER IN BINARIO, CIO' SERVIRA' SUCCESSIVAMENTE IN FASE DI CLASSIFICAZIONE"
   ]
  },
  {
   "cell_type": "code",
   "execution_count": null,
   "id": "c264e1eb",
   "metadata": {},
   "outputs": [],
   "source": [
    "def binary_winner(winner, first_pokemon, second_pokemon):\n",
    "    if (first_pokemon == winner):\n",
    "        return 0\n",
    "    elif (second_pokemon == winner):\n",
    "        return 1\n",
    "    \n",
    "train['Winner']= train.apply(lambda x: binary_winner(x['Winner'], x['First_pokemon'], x['Second_pokemon']), axis=1)\n",
    "test['Winner']= test.apply(lambda x: binary_winner(x['Winner'], x['First_pokemon'], x['Second_pokemon']), axis=1)"
   ]
  },
  {
   "cell_type": "code",
   "execution_count": null,
   "id": "60dff4a2",
   "metadata": {},
   "outputs": [],
   "source": [
    "train.head(15)"
   ]
  },
  {
   "cell_type": "markdown",
   "id": "4d99735d",
   "metadata": {},
   "source": [
    "## ESPLORAZIONE BASICA DEL DATASET POKEMON"
   ]
  },
  {
   "cell_type": "code",
   "execution_count": null,
   "id": "e86343fb",
   "metadata": {},
   "outputs": [],
   "source": [
    "pokemonData = pd.read_csv('pokemon.csv')"
   ]
  },
  {
   "cell_type": "code",
   "execution_count": null,
   "id": "e6d5c34d",
   "metadata": {},
   "outputs": [],
   "source": [
    "pokemonData.head()"
   ]
  },
  {
   "cell_type": "code",
   "execution_count": null,
   "id": "324575b9",
   "metadata": {},
   "outputs": [],
   "source": [
    "featurePokemon = list(pokemonData)\n",
    "print(featurePokemon)"
   ]
  },
  {
   "cell_type": "code",
   "execution_count": null,
   "id": "e98b4535",
   "metadata": {},
   "outputs": [],
   "source": [
    "for c in train.columns:   \n",
    "    print (\"Features: \", c)\n",
    "    print(train[c].value_counts())\n",
    "    print(\"\\n-------\\n\")\n"
   ]
  },
  {
   "cell_type": "markdown",
   "id": "8cf9223c",
   "metadata": {},
   "source": [
    "#### OSSERVAZIONI:\n",
    "\n",
    "##### * Utile stampare una rapida distribuzione, tuttavia analisi piu' accurate verranno fatte nella successiva sezione di Analisi Dei Dati"
   ]
  },
  {
   "cell_type": "code",
   "execution_count": null,
   "id": "f71f67b3",
   "metadata": {},
   "outputs": [],
   "source": [
    "print(pokemonData.isnull().sum()) #controllo i valori nulli"
   ]
  },
  {
   "cell_type": "markdown",
   "id": "8e202de8",
   "metadata": {},
   "source": [
    "#### OSSERVAZIONI\n",
    "\n",
    "##### * Valori nulli di type2 dovranno essere gestiti in seguito"
   ]
  },
  {
   "cell_type": "code",
   "execution_count": null,
   "id": "3029d45b",
   "metadata": {},
   "outputs": [],
   "source": [
    "pokemonData.info() #controllo i dtype"
   ]
  },
  {
   "cell_type": "markdown",
   "id": "023f5e5b",
   "metadata": {},
   "source": [
    "## EFFETTUO IL JOIN TRA IL POKEMONDATA E IL TRAIN & TEST"
   ]
  },
  {
   "cell_type": "code",
   "execution_count": null,
   "id": "13419e1f",
   "metadata": {},
   "outputs": [],
   "source": [
    "joinedTrain = train.join(pokemonData.set_index('#'), on=\"First_pokemon\", rsuffix=\"_first\")\n",
    "train = joinedTrain.join(pokemonData.set_index('#'), on=\"Second_pokemon\", rsuffix=\"_second\")\n",
    "joinedTest = test.join(pokemonData.set_index('#'), on=\"First_pokemon\", rsuffix=\"_first\")\n",
    "test = joinedTest.join(pokemonData.set_index('#'), on=\"Second_pokemon\", rsuffix=\"_second\")\n",
    "\n",
    "train.head() #visualizzo rapidamente il join compiuto"
   ]
  },
  {
   "cell_type": "markdown",
   "id": "093ee58b",
   "metadata": {},
   "source": [
    "## ANALISI DEI DATI SUL DATASET JOINED"
   ]
  },
  {
   "cell_type": "code",
   "execution_count": null,
   "id": "cad15311",
   "metadata": {
    "scrolled": true
   },
   "outputs": [],
   "source": [
    "print(train.isnull().sum()) #controllo i valori nulli dopo il join\n",
    "print(\"\\n-----------------SEPARATOR---------------\\n\")\n",
    "print(test.isnull().sum()) #controllo i valori nulli dopo il join"
   ]
  },
  {
   "cell_type": "markdown",
   "id": "df87ae11",
   "metadata": {},
   "source": [
    "#### OSSERVAZIONI:\n",
    "\n",
    "##### * Gestiro' successivamente i valori nulli di type2 eliminando la colonna dato che 15mila valori nulli sono troppi per pensare di eliminare solo determinate righe \n",
    "\n",
    "##### * Per quanto riguarda i nomi dei Pokemon ci sono 10 valori nulli per i quali posso droppare direttamente le righe. Tuttavia i nomi dei Pokemon sono irrilevanti ai fini della classificazione stessa e per questo eliminero' direttamente tutta la colonna"
   ]
  },
  {
   "cell_type": "code",
   "execution_count": null,
   "id": "0f3668bb",
   "metadata": {},
   "outputs": [],
   "source": [
    "train.info() #stampo i DType"
   ]
  },
  {
   "cell_type": "markdown",
   "id": "e8dc6b69",
   "metadata": {},
   "source": [
    "### EFFETTUO UN RAPIDO PREPROCESSING SULLE COLONNE CHE GIA' SI POSSONO ELIMINARE PER SCARSA RILEVANZA (NOME) E PER ECCESSO DI VALORI NULLI (TYPE 2)"
   ]
  },
  {
   "cell_type": "code",
   "execution_count": null,
   "id": "dc226379",
   "metadata": {},
   "outputs": [],
   "source": [
    "toDrop = ['Name','Name_second', 'Type 2', 'Type 2_second']\n",
    "train = train.drop(toDrop, axis=1)\n",
    "test = test.drop(toDrop, axis=1)\n",
    "\n",
    "train.head()"
   ]
  },
  {
   "cell_type": "code",
   "execution_count": null,
   "id": "396b79bf",
   "metadata": {},
   "outputs": [],
   "source": [
    "toEncode = ['Type 1','Legendary', 'Type 1_second', 'Legendary_second']\n",
    "\n",
    "encoder = LabelEncoder()\n",
    "for element in toEncode:\n",
    "    train[element] = encoder.fit_transform(train[element])\n",
    "    test[element] = encoder.fit_transform(test[element])\n",
    "\n",
    "train.head()"
   ]
  },
  {
   "cell_type": "markdown",
   "id": "e34eed7c",
   "metadata": {},
   "source": [
    "### CONTROLLO LA DISTRIBUZIONE DEI VALORI E LA HEATMAP"
   ]
  },
  {
   "cell_type": "code",
   "execution_count": null,
   "id": "b69d156c",
   "metadata": {},
   "outputs": [],
   "source": [
    "feature = list(train)\n",
    "feature.remove('Winner')\n",
    "\n",
    "for feature in feature:\n",
    "    g = sns.displot(data=train, x=feature, hue=train['Winner'], kind=\"kde\", facet_kws=dict(sharey=False, sharex=False))  \n",
    "    plt.show()\n",
    "    "
   ]
  },
  {
   "cell_type": "markdown",
   "id": "b6fb17f0",
   "metadata": {},
   "source": [
    "#### OSSERVAZIONI:\n",
    "\n",
    "##### * Possibile constatare dal grado di sovrapposizione della distribuzione dei valori winner che alcune feature sono completamente superflue alla classificazione, ad esempio generation, first_pokemon, second_pokemon, type 1, type 1_second\n",
    "\n",
    "##### * Possibile constatare che alcune feature relative alle stats dei pokemon possiedono valori interessanti da quanto si osserva dalla distribuzione dei valori su winner, probabilmente e' possibile ricavare nuove feature computando la differenza tra le stats (ad esempio Attack, Defense, Sp. Attack, Sp. Defense, Speed ecc..). Lo provero' in seguito"
   ]
  },
  {
   "cell_type": "code",
   "execution_count": null,
   "id": "6f46d66a",
   "metadata": {},
   "outputs": [],
   "source": [
    "plt.figure(figsize=(18,10))\n",
    "correlation = train.corr()\n",
    "sns.heatmap(correlation, annot = True, linewidth = 2) #IN ALTERNATIVA POTEVO USARE BARPLOT E PANDA CORR"
   ]
  },
  {
   "cell_type": "markdown",
   "id": "c8dbf0b9",
   "metadata": {},
   "source": [
    "#### OSSERVAZIONI:\n",
    "\n",
    "##### * La heatmap sostanzialmente conferma l'inutilita' dei valori generation, first_pokemon, second_pokemon, type 1 per entrambi i Pokemon dello scontro. Verranno sicuramente droppate in uno dei passaggi successivi\n",
    "\n",
    "##### * Ora e' necessario verificare se l'aggiunta delle feature ipotizzate aggiunge informazione utile al fine della classifcazione"
   ]
  },
  {
   "cell_type": "markdown",
   "id": "5a7d0d8b",
   "metadata": {},
   "source": [
    "### SICCOME LE STATS SONO VALORI INTERI, POSSO PROVARE A VEDERE SE COMPUTARE LA DIFFERENZA TRA LE STATS DEI DUE POKEMON CI DA QUALCHE POSSIBILE VANTAGGIO NELLE HEATMAP"
   ]
  },
  {
   "cell_type": "code",
   "execution_count": null,
   "id": "62884ad5",
   "metadata": {},
   "outputs": [],
   "source": [
    "##Aggiungo delle stats ulteriori\n",
    "train['HP_Difference'] = train['HP'] - train['HP_second']\n",
    "test['HP_Difference'] = test['HP'] - test['HP_second']\n",
    "train['Attack_Difference'] = train['Attack'] - train['Attack_second']\n",
    "test['Attack_Difference'] = test['Attack'] - test['Attack_second']\n",
    "train['Defense_Difference'] = train['Defense'] - train['Defense_second']\n",
    "test['Defense_Difference'] = test['Defense'] - test['Defense_second'] \n",
    "train['Sp. Atk_Difference'] = train['Sp. Atk'] - train['Sp. Atk_second']\n",
    "test['Sp. Atk_Difference'] = test['Sp. Atk'] - test['Sp. Atk_second']\n",
    "train['Sp. Def_Difference'] = train['Sp. Def'] - train['Sp. Def_second']\n",
    "test['Sp. Def_Difference'] = test['Sp. Def'] - test['Sp. Def_second']\n",
    "train['Speed_Difference'] = train['Speed'] - train['Speed_second']\n",
    "test['Speed_Difference'] = test['Speed'] - test['Speed_second']"
   ]
  },
  {
   "cell_type": "code",
   "execution_count": null,
   "id": "bed30690",
   "metadata": {},
   "outputs": [],
   "source": [
    "newFeature = ['HP_Difference', 'Attack_Difference', 'Defense_Difference', 'Sp. Atk_Difference', 'Sp. Def_Difference', 'Speed_Difference']\n",
    "\n",
    "plt.figure(figsize=(25,10))\n",
    "for feature in newFeature:\n",
    "    g = sns.displot(data=train, x=feature, hue=train['Winner'], kind=\"kde\", facet_kws=dict(sharey=False, sharex=False))  \n",
    "    plt.show()"
   ]
  },
  {
   "cell_type": "markdown",
   "id": "683241ff",
   "metadata": {},
   "source": [
    "### OSSERVAZIONI\n",
    "\n",
    "##### * Queste nuove feature sembrano essere molto promettenti ad eccezione di Defense_Difference che e' troppo sovrapposta e \"meno netta\" nei valori di Winner, per confermare cio' e' possibile anche utilizzare una nuova heatmap"
   ]
  },
  {
   "cell_type": "code",
   "execution_count": null,
   "id": "1f6958b2",
   "metadata": {},
   "outputs": [],
   "source": [
    "plt.figure(figsize=(25,15))\n",
    "correlation = train.corr()\n",
    "sns.heatmap(correlation, annot = True, linewidth = 2)\n",
    "\n",
    "#ANALIZZO PRINCIPALMENTE I CORRELATI A WINNER, INDIVIDUO VALORI POCO SIGNIFICATIVI CHE SONO QUELLI NELL'INTORNO DI 0:\n",
    "#First_Pokemon, Second_pokemon, Type 1, Defense, Generation, Type 1_second, Defense_second, Generation_second, Defense_Difference"
   ]
  },
  {
   "cell_type": "markdown",
   "id": "9d6c0341",
   "metadata": {},
   "source": [
    "### OSSERVAZIONI:\n",
    "\n",
    "##### * La heatmap conferma la scarsa rilevanza di Defense_Difference\n",
    "\n",
    "##### * Le feature scartabili a seguito dell'analisi risultano essere: First_Pokemon, Second_pokemon, Type 1, Defense, Generation, Type 1_second, Defense_second, Generation_second, Defense_Difference\n",
    "\n",
    "##### * Computare la differenza delle stats ha aiutato nella maggior parte dei casi con l'unica eccezione di Defense_Difference che continua ad avere una correlazione molto bassa"
   ]
  },
  {
   "cell_type": "markdown",
   "id": "b624f749",
   "metadata": {},
   "source": [
    "### SECONDO DROP DI VALORI POCO SIGNIFICATIVI"
   ]
  },
  {
   "cell_type": "markdown",
   "id": "cae09e26",
   "metadata": {},
   "source": [
    "##### Possibile eliminare i seguenti valori per la bassa correlazione verificata in precedenza"
   ]
  },
  {
   "cell_type": "code",
   "execution_count": null,
   "id": "a60022a7",
   "metadata": {},
   "outputs": [],
   "source": [
    "#Droppo i valori poco significativi analizzati in precedenza\n",
    "toDrop = ['First_pokemon', 'Second_pokemon', 'Type 1', 'Defense', 'Generation', 'Type 1_second', 'Defense_second', 'Generation_second', 'Defense_Difference']\n",
    "train = train.drop(toDrop, axis=1)\n",
    "test = test.drop(toDrop, axis=1)\n",
    "\n",
    "train.head()"
   ]
  },
  {
   "cell_type": "markdown",
   "id": "6d6b8afd",
   "metadata": {},
   "source": [
    "# DEFINISCO LA PARTE DI TRAINING DEL MODELLO"
   ]
  },
  {
   "cell_type": "code",
   "execution_count": null,
   "id": "cf28e084",
   "metadata": {},
   "outputs": [],
   "source": [
    "y_train = train['Winner']          \n",
    "X_train = train.drop(['Winner'], axis=1)  \n",
    "\n",
    "y_test = test['Winner']          \n",
    "X_test = test.drop(['Winner'], axis=1)"
   ]
  },
  {
   "cell_type": "code",
   "execution_count": null,
   "id": "5ee47316",
   "metadata": {},
   "outputs": [],
   "source": [
    "dt = DecisionTreeClassifier()\n",
    "rf = RandomForestClassifier()\n",
    "\n",
    "models = [dt, rf]\n",
    "score = []\n",
    "\n",
    "for model in models:\n",
    "    model.fit(X_train, y_train)\n",
    "    y_pred = model.predict(X_test)\n",
    "    acc = round(accuracy_score(y_pred, y_test) * 100, 2)\n",
    "    score.append(acc)\n",
    "    print(model)\n",
    "    print(acc)\n",
    "    plot_confusion_matrix(model, X_test, y_test, values_format='n', display_labels=['No','Yes']) \n",
    "    plt.show()\n",
    "    print(\"\\n\")\n",
    "    print(classification_report(y_test,y_pred))\n",
    "    \n",
    "models = pd.DataFrame({\n",
    "    'Model': ['Decision Tree', 'Random Forest'],\n",
    "    'Score': score})\n",
    "models.sort_values(by='Score', ascending=False)"
   ]
  },
  {
   "cell_type": "markdown",
   "id": "85dedc35",
   "metadata": {},
   "source": [
    "## OSSERVAZIONI CONCLUSIVE"
   ]
  },
  {
   "cell_type": "markdown",
   "id": "f8c3cd60",
   "metadata": {},
   "source": [
    "#### * Random Forest: Anche se non spiegato a lezione, si tratta di un algoritmo che genera una moltitudine di decision tree. Ogni singolo albero nella foresta genera una previsione. Al termine si sceglie la classe di previsione che e' stata predetta per la maggiore tra gli alberi appartenenti alla foresta. Generalmente questo sistema \"a maggioranza\" risulta piu' performante del singolo decision tree"
   ]
  },
  {
   "cell_type": "markdown",
   "id": "0b1ab0fc",
   "metadata": {},
   "source": [
    "#### * Random Forest decisamente piu' performante sia del Decision Tree (come ci aspettavamo) di conseguenza e' l'algoritmo migliore per la classificazione"
   ]
  },
  {
   "cell_type": "markdown",
   "id": "147459cf",
   "metadata": {},
   "source": [
    "#### * Ho effettuato una rapida prova togliendo le feature \"difference\" aggiunte nella sezione di Analisi Di Dati ed ho constatato che un loro utilizzo migliora complessivamente il modello di classifcazione di 1 punto di Score"
   ]
  },
  {
   "cell_type": "markdown",
   "id": "88657309",
   "metadata": {},
   "source": [
    "#### * Nel caso in cui non accettasse il Random Forest dato che non e' stato trattato a lezione, le ho lasciato anche il Decision Tree"
   ]
  }
 ],
 "metadata": {
  "kernelspec": {
   "display_name": "Python 3",
   "language": "python",
   "name": "python3"
  },
  "language_info": {
   "codemirror_mode": {
    "name": "ipython",
    "version": 3
   },
   "file_extension": ".py",
   "mimetype": "text/x-python",
   "name": "python",
   "nbconvert_exporter": "python",
   "pygments_lexer": "ipython3",
   "version": "3.8.8"
  }
 },
 "nbformat": 4,
 "nbformat_minor": 5
}
